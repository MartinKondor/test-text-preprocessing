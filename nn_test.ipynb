{
 "cells": [
  {
   "cell_type": "code",
   "execution_count": 4,
   "metadata": {},
   "outputs": [
    {
     "name": "stdout",
     "output_type": "stream",
     "text": [
      "We are going to use only the titles from the database\n",
      "[o] X.shape = (6334,)\n",
      "[o] Y.shape = (6334, 1)\n"
     ]
    }
   ],
   "source": [
    "import numpy as np\n",
    "import pandas as pd\n",
    "import tensorflow as tf\n",
    "from tensorflow import keras\n",
    "from tensorflow.keras import layers\n",
    "from tensorflow.keras.preprocessing.sequence import pad_sequences\n",
    "from sklearn.model_selection import train_test_split\n",
    "\n",
    "\n",
    "df = pd.read_csv(\"data/data.csv\", sep=\";\")\n",
    "\n",
    "X = df[\"title\"].values\n",
    "Y = df[\"label\"].values.reshape(-1, 1)\n",
    "\n",
    "print(\"We are going to use only the titles from the database\")\n",
    "print(\"[o] X.shape =\", X.shape)\n",
    "print(\"[o] Y.shape =\", Y.shape)"
   ]
  },
  {
   "cell_type": "code",
   "execution_count": 5,
   "metadata": {},
   "outputs": [
    {
     "name": "stdout",
     "output_type": "stream",
     "text": [
      "[o] The longest word is 289 characters long\n"
     ]
    }
   ],
   "source": [
    "maxlen = max([len(x) for x in X])\n",
    "print(\"[o] The longest word is\", maxlen, \"characters long\")"
   ]
  },
  {
   "cell_type": "code",
   "execution_count": 6,
   "metadata": {},
   "outputs": [
    {
     "name": "stdout",
     "output_type": "stream",
     "text": [
      "Model: \"sequential_1\"\n",
      "_________________________________________________________________\n",
      " Layer (type)                Output Shape              Param #   \n",
      "=================================================================\n",
      " embedding_1 (Embedding)     (None, 289, 578)          3661052   \n",
      "                                                                 \n",
      " conv1d_1 (Conv1D)           (None, 288, 256)          296192    \n",
      "                                                                 \n",
      " global_max_pooling1d_1 (Glo  (None, 256)              0         \n",
      " balMaxPooling1D)                                                \n",
      "                                                                 \n",
      " dense_2 (Dense)             (None, 512)               131584    \n",
      "                                                                 \n",
      " dropout_1 (Dropout)         (None, 512)               0         \n",
      "                                                                 \n",
      " dense_3 (Dense)             (None, 1)                 513       \n",
      "                                                                 \n",
      "=================================================================\n",
      "Total params: 4,089,341\n",
      "Trainable params: 4,089,341\n",
      "Non-trainable params: 0\n",
      "_________________________________________________________________\n"
     ]
    }
   ],
   "source": [
    "init_model = lambda _maxlen=289: keras.Sequential([\n",
    "    layers.Embedding(input_dim=X.shape[0], output_dim=2*_maxlen, input_length=_maxlen),\n",
    "    layers.Conv1D(256, kernel_size=2, activation=\"relu\"),\n",
    "    layers.GlobalMaxPool1D(),\n",
    "    layers.Dense(512, activation=\"relu\"),\n",
    "    layers.Dropout(0.5),\n",
    "    layers.Dense(1, activation=\"sigmoid\")\n",
    "])\n",
    "model = init_model(maxlen)\n",
    "model.summary()"
   ]
  },
  {
   "cell_type": "code",
   "execution_count": 7,
   "metadata": {},
   "outputs": [
    {
     "name": "stdout",
     "output_type": "stream",
     "text": [
      "[o] Results for <function tokenization at 0x17fe955e0>:\n",
      "\t[i] Size of X: (6334, 289)\n",
      "\t[i] Max length from X: 289\n",
      "\t[i] Number of DL params: 4089341\n",
      "Epoch 1/15\n",
      "161/161 [==============================] - 17s 101ms/step - loss: 0.4803 - accuracy: 0.7620 - val_loss: 0.3737 - val_accuracy: 0.8281\n",
      "Epoch 2/15\n",
      "161/161 [==============================] - 14s 89ms/step - loss: 0.1716 - accuracy: 0.9370 - val_loss: 0.3867 - val_accuracy: 0.8211\n",
      "Epoch 3/15\n",
      "161/161 [==============================] - 16s 97ms/step - loss: 0.0379 - accuracy: 0.9899 - val_loss: 0.5459 - val_accuracy: 0.8158\n",
      "[o] acc = 0.8533123135566711\n",
      "\n"
     ]
    }
   ],
   "source": [
    "from test import tokenization\n",
    "\n",
    "\n",
    "prep_methods = [\n",
    "    tokenization\n",
    "]\n",
    "\n",
    "early_stop = tf.keras.callbacks.EarlyStopping(\n",
    "        monitor='val_loss',\n",
    "        patience=2,\n",
    "        restore_best_weights=True)\n",
    "\n",
    "\n",
    "for prep_method in prep_methods:\n",
    "    print(f\"[o] Results for {prep_method}:\")\n",
    "\n",
    "    seed = 7\n",
    "    epoch = 15\n",
    "\n",
    "    np.random.seed(seed)\n",
    "    tf.random.set_seed(seed)\n",
    "\n",
    "    maxlen = max([len(x) for x in X])\n",
    "    new_X = prep_method(X)\n",
    "    new_X = pad_sequences(new_X, padding=\"post\", maxlen=maxlen)\n",
    "    model = init_model(maxlen)\n",
    "\n",
    "    print(\"\\t[i] Size of X:\", new_X.shape)\n",
    "    print(\"\\t[i] Max length from X:\", maxlen)\n",
    "    print(\"\\t[i] Number of DL params:\", model.count_params())\n",
    "\n",
    "    X_train, X_test, y_train, y_test = train_test_split(new_X, Y, test_size=0.1, shuffle=True)\n",
    "    X_train, X_val, y_train, y_val = train_test_split(X_train, y_train, test_size=0.1, shuffle=True)\n",
    "\n",
    "    model.compile(metrics=[\"accuracy\"], optimizer=\"adam\", loss=\"binary_crossentropy\")\n",
    "    history = model.fit(\n",
    "        X_train, y_train,\n",
    "        epochs=epoch,\n",
    "        verbose=True,\n",
    "        validation_data=(X_val, y_val,),\n",
    "        #validation_split=0.1,\n",
    "        callbacks=[\n",
    "            early_stop\n",
    "        ]\n",
    "    )\n",
    "        \n",
    "    loss, acc = model.evaluate(X_test, y_test, verbose=False)\n",
    "    print(\"[o] acc =\", acc)\n",
    "    print()\n",
    "\n",
    "    del X_train, X_test, y_train, y_test, X_val, y_val, model, history\n",
    "    break"
   ]
  }
 ],
 "metadata": {
  "kernelspec": {
   "display_name": "Python 3.8.13 ('tfn')",
   "language": "python",
   "name": "python3"
  },
  "language_info": {
   "codemirror_mode": {
    "name": "ipython",
    "version": 3
   },
   "file_extension": ".py",
   "mimetype": "text/x-python",
   "name": "python",
   "nbconvert_exporter": "python",
   "pygments_lexer": "ipython3",
   "version": "3.8.13"
  },
  "orig_nbformat": 4,
  "vscode": {
   "interpreter": {
    "hash": "a6b531d05f346ef7d3dcb3c4294551e0bb2bf64a88a8e28bd740789d58209f53"
   }
  }
 },
 "nbformat": 4,
 "nbformat_minor": 2
}
